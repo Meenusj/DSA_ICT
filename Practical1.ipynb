{
  "nbformat": 4,
  "nbformat_minor": 0,
  "metadata": {
    "colab": {
      "provenance": [],
      "authorship_tag": "ABX9TyNZPt/CGO+cL0PdVfGznmri",
      "include_colab_link": true
    },
    "kernelspec": {
      "name": "python3",
      "display_name": "Python 3"
    },
    "language_info": {
      "name": "python"
    }
  },
  "cells": [
    {
      "cell_type": "markdown",
      "metadata": {
        "id": "view-in-github",
        "colab_type": "text"
      },
      "source": [
        "<a href=\"https://colab.research.google.com/github/Meenusj/DSA_ICT/blob/main/Practical1.ipynb\" target=\"_parent\"><img src=\"https://colab.research.google.com/assets/colab-badge.svg\" alt=\"Open In Colab\"/></a>"
      ]
    },
    {
      "cell_type": "code",
      "execution_count": null,
      "metadata": {
        "colab": {
          "base_uri": "https://localhost:8080/"
        },
        "id": "NakCYLv3ZlAx",
        "outputId": "391cf324-6ef6-47f5-8c19-c729a4cf314b"
      },
      "outputs": [
        {
          "output_type": "stream",
          "name": "stdout",
          "text": [
            "enter the radius of circle:3\n",
            "area if the circle is:28.259999999999998\n"
          ]
        }
      ],
      "source": [
        "radius=int(input(\"enter the radius of circle:\"))\n",
        "area=3.14*radius*radius\n",
        "print(f\"area if the circle is:{area}\")"
      ]
    },
    {
      "cell_type": "code",
      "source": [
        "name=input(\"enter the name:\")\n",
        "roll_number=int(input(\"enter the roll number of student:\"))\n",
        "mark=int(input(\"enter the mark\"))\n",
        "print(\"Name:\",name)\n",
        "print(\"Roll No:\",roll_number)\n",
        "print(\"mark\",mark)"
      ],
      "metadata": {
        "colab": {
          "base_uri": "https://localhost:8080/"
        },
        "id": "kMI0OvX_aA68",
        "outputId": "da8a7952-6332-4cf3-c6bc-93abc99c40d3"
      },
      "execution_count": null,
      "outputs": [
        {
          "output_type": "stream",
          "name": "stdout",
          "text": [
            "enter the name:Anisha\n",
            "enter the roll number of student:21\n",
            "enter the mark78\n",
            "Name: Anisha\n",
            "Roll No: 21\n",
            "mark 78\n"
          ]
        }
      ]
    },
    {
      "cell_type": "code",
      "source": [
        "def get_largest_number(numbers):\n",
        "\n",
        "    largest = numbers[0]\n",
        "    for num in numbers[1:]:\n",
        "        if num > largest:\n",
        "            largest = num\n",
        "    return largest\n",
        "\n",
        "# Sample input\n",
        "numbers = [12, 3, 47, 10]\n",
        "\n",
        "\n",
        "largest_number = get_largest_number(numbers)\n",
        "\n",
        "\n",
        "print(f\"{largest_number} is the largest number.\")\n"
      ],
      "metadata": {
        "colab": {
          "base_uri": "https://localhost:8080/"
        },
        "id": "QW2FZDNObeWh",
        "outputId": "fb46d6dd-88fa-4635-ccb8-54362bc16899"
      },
      "execution_count": null,
      "outputs": [
        {
          "output_type": "stream",
          "name": "stdout",
          "text": [
            "47 is the largest number.\n"
          ]
        }
      ]
    },
    {
      "cell_type": "code",
      "source": [
        "def get_largest_number(numbers):\n",
        "    largest = max(numbers)\n",
        "    return largest\n",
        "\n",
        "# Sample input\n",
        "numbers = [12, 3, 47, 10]\n",
        "\n",
        "# Get the largest number\n",
        "largest_number = get_largest_number(numbers)\n",
        "\n",
        "# Output\n",
        "print(f\"{largest_number} is the largest number.\")\n"
      ],
      "metadata": {
        "colab": {
          "base_uri": "https://localhost:8080/"
        },
        "id": "yqTJxAJacJxS",
        "outputId": "94f9a5f6-6ca5-46f0-ca99-189ab1ceca9c"
      },
      "execution_count": null,
      "outputs": [
        {
          "output_type": "stream",
          "name": "stdout",
          "text": [
            "47 is the largest number.\n"
          ]
        }
      ]
    },
    {
      "cell_type": "code",
      "source": [
        "def print_current_previous_sum(start,end):\n",
        "  previous_num=0\n",
        "  for num in range(start,end+1):\n",
        "    current_sum=num+previous_num\n",
        "    print(f\"current number {num} previous number is {previous_num} and sum is {current_sum}\")\n",
        "    previous_num=num\n",
        "\n",
        "start=1\n",
        "end=10\n",
        "\n",
        "print_current_previous_sum(start,end)"
      ],
      "metadata": {
        "colab": {
          "base_uri": "https://localhost:8080/"
        },
        "id": "DIZx1sDGcKp8",
        "outputId": "912e675e-64ac-45e3-a4f1-39d14495592a"
      },
      "execution_count": null,
      "outputs": [
        {
          "output_type": "stream",
          "name": "stdout",
          "text": [
            "current number 1 previous number is 0 and sum is 1\n",
            "current number 2 previous number is 1 and sum is 3\n",
            "current number 3 previous number is 2 and sum is 5\n",
            "current number 4 previous number is 3 and sum is 7\n",
            "current number 5 previous number is 4 and sum is 9\n",
            "current number 6 previous number is 5 and sum is 11\n",
            "current number 7 previous number is 6 and sum is 13\n",
            "current number 8 previous number is 7 and sum is 15\n",
            "current number 9 previous number is 8 and sum is 17\n",
            "current number 10 previous number is 9 and sum is 19\n"
          ]
        }
      ]
    },
    {
      "cell_type": "code",
      "source": [
        "def print_division(num):\n",
        "  divisible_by_5=[]\n",
        "  for num in sample_list:\n",
        "    if num%5==0:\n",
        "      divisible_by_5.append(num)\n",
        "  print(\", \" .join(map(str,divisible_by_5)))\n",
        "\n",
        "sample_list= [10, 20, 33, 46, 55]\n",
        "\n",
        "print_division(sample_list)"
      ],
      "metadata": {
        "colab": {
          "base_uri": "https://localhost:8080/"
        },
        "id": "rbmLU7redlQ-",
        "outputId": "c5a20def-b4d3-4bc7-e2c9-8ca5cdbb66f2"
      },
      "execution_count": null,
      "outputs": [
        {
          "output_type": "stream",
          "name": "stdout",
          "text": [
            "10, 20, 55\n"
          ]
        }
      ]
    },
    {
      "cell_type": "code",
      "source": [
        "def is_prime(num):\n",
        "  if num<=1:\n",
        "    return False\n",
        "  for i in range(2,num):\n",
        "    if num%i==0:\n",
        "      return False\n",
        "  return True\n",
        "\n",
        "num=int(input(\"enter the number:\"))\n",
        "if is_prime(num):\n",
        "  print(f\"{num} is a prime number\")\n",
        "else:\n",
        "  print(f\"{num} is not a prime number\")\n",
        "\n",
        "\n",
        "\n"
      ],
      "metadata": {
        "colab": {
          "base_uri": "https://localhost:8080/"
        },
        "id": "jfx9dIcBgElN",
        "outputId": "adc8789a-17c2-480f-a7ca-fb72fbba299f"
      },
      "execution_count": null,
      "outputs": [
        {
          "output_type": "stream",
          "name": "stdout",
          "text": [
            "enter the number:3\n",
            "3 is a prime number\n"
          ]
        }
      ]
    },
    {
      "cell_type": "code",
      "source": [
        "\n",
        "def reverse_list(lst):\n",
        "    reversed_lst = []\n",
        "    for i in range(len(lst) - 1, -1, -1):\n",
        "        reversed_lst.append(lst[i])\n",
        "    return reversed_lst\n",
        "\n",
        "\n",
        "input_list = [10, 40, 30, 70]\n",
        "\n",
        "\n",
        "output_list = reverse_list(input_list)\n",
        "\n",
        "print(\"Sample input:\", \",\".join(map(str, input_list)))\n",
        "print(\"Sample output:\", \",\".join(map(str, output_list)))\n"
      ],
      "metadata": {
        "id": "dRMBqyR0jMun",
        "colab": {
          "base_uri": "https://localhost:8080/"
        },
        "outputId": "5808359d-fa24-4356-93c4-47a7bce0e461"
      },
      "execution_count": 1,
      "outputs": [
        {
          "output_type": "stream",
          "name": "stdout",
          "text": [
            "Sample input: 10,40,30,70\n",
            "Sample output: 70,30,40,10\n"
          ]
        }
      ]
    },
    {
      "cell_type": "code",
      "source": [
        "\n",
        "def print_pattern(rows):\n",
        "    for i in range(1, rows + 1):\n",
        "        print(\"*\" * i)\n",
        "\n",
        "num_rows = 4\n",
        "\n",
        "print_pattern(num_rows)\n"
      ],
      "metadata": {
        "colab": {
          "base_uri": "https://localhost:8080/"
        },
        "id": "eSBlrfLjU1b9",
        "outputId": "34af9ec8-8164-45d0-e20b-52f1d4c69dad"
      },
      "execution_count": 2,
      "outputs": [
        {
          "output_type": "stream",
          "name": "stdout",
          "text": [
            "*\n",
            "**\n",
            "***\n",
            "****\n"
          ]
        }
      ]
    },
    {
      "cell_type": "code",
      "source": [
        "\n",
        "def find_maximum(a, b, c):\n",
        "    max_number = a\n",
        "    if b > max_number:\n",
        "        max_number = b\n",
        "    if c > max_number:\n",
        "        max_number = c\n",
        "    return max_number\n",
        "\n",
        "num1, num2, num3 = 34, 12, 7\n",
        "\n",
        "max_num = find_maximum(num1, num2, num3)\n",
        "\n",
        "\n",
        "print(\"Sample input:\", num1, \",\", num2, \",\", num3)\n",
        "print(\"Sample output:\", max_num)\n"
      ],
      "metadata": {
        "colab": {
          "base_uri": "https://localhost:8080/"
        },
        "id": "Tw3YrSfAVMG-",
        "outputId": "fa2432e8-28a3-4a87-ade7-1f905ae06f79"
      },
      "execution_count": 3,
      "outputs": [
        {
          "output_type": "stream",
          "name": "stdout",
          "text": [
            "Sample input: 34 , 12 , 7\n",
            "Sample output: 34\n"
          ]
        }
      ]
    },
    {
      "cell_type": "code",
      "source": [
        "\n",
        "def print_pattern(rows):\n",
        "    # Upper half of the pattern\n",
        "    for i in range(1, rows + 1):\n",
        "        print(\"*\" * i)\n",
        "\n",
        "    # Lower half of the pattern\n",
        "    for i in range(rows - 1, 0, -1):\n",
        "        print(\"*\" * i)\n",
        "\n",
        "num_rows = 5\n",
        "\n",
        "\n",
        "print_pattern(num_rows)\n"
      ],
      "metadata": {
        "colab": {
          "base_uri": "https://localhost:8080/"
        },
        "id": "AIzo4YUrVQDA",
        "outputId": "5af9be2b-2ba0-4797-ab1d-3c172d865bc1"
      },
      "execution_count": 4,
      "outputs": [
        {
          "output_type": "stream",
          "name": "stdout",
          "text": [
            "*\n",
            "**\n",
            "***\n",
            "****\n",
            "*****\n",
            "****\n",
            "***\n",
            "**\n",
            "*\n"
          ]
        }
      ]
    },
    {
      "cell_type": "code",
      "source": [],
      "metadata": {
        "id": "v2jH_8JkVcRq"
      },
      "execution_count": null,
      "outputs": []
    }
  ]
}