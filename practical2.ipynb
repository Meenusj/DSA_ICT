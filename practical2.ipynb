{
  "nbformat": 4,
  "nbformat_minor": 0,
  "metadata": {
    "colab": {
      "provenance": [],
      "authorship_tag": "ABX9TyOpSZ7e5VKAOK0B6loCf2Dq",
      "include_colab_link": true
    },
    "kernelspec": {
      "name": "python3",
      "display_name": "Python 3"
    },
    "language_info": {
      "name": "python"
    }
  },
  "cells": [
    {
      "cell_type": "markdown",
      "metadata": {
        "id": "view-in-github",
        "colab_type": "text"
      },
      "source": [
        "<a href=\"https://colab.research.google.com/github/Meenusj/DSA_ICT/blob/main/practical2.ipynb\" target=\"_parent\"><img src=\"https://colab.research.google.com/assets/colab-badge.svg\" alt=\"Open In Colab\"/></a>"
      ]
    },
    {
      "cell_type": "code",
      "execution_count": 2,
      "metadata": {
        "colab": {
          "base_uri": "https://localhost:8080/"
        },
        "id": "84-Eqf5NWQDb",
        "outputId": "d09a8b87-ff4d-446a-b561-b31323923c65"
      },
      "outputs": [
        {
          "output_type": "stream",
          "name": "stdout",
          "text": [
            "Enter a string value: assembly Sample\n",
            "Sample output: a=2, s=2, e=2, m=2, b=1, l=2, y=1,  =1, S=1, p=1\n"
          ]
        }
      ],
      "source": [
        "def count_characters(string):\n",
        "    char_count = {}\n",
        "    for char in string:\n",
        "        if char in char_count:\n",
        "            char_count[char] += 1\n",
        "        else:\n",
        "            char_count[char] = 1\n",
        "    return char_count\n",
        "\n",
        "user_input = input(\"Enter a string value: \")\n",
        "char_count = count_characters(user_input)\n",
        "print(\"Sample output:\", \", \".join([f\"{char}={count}\" for char, count in char_count.items()]))\n"
      ]
    },
    {
      "cell_type": "code",
      "source": [
        "def find_maximum(a, b, c):\n",
        "    return max(a, b, c)\n",
        "\n",
        "num1, num2, num3 = map(int, input(\"Sample input: \").split(\",\"))\n",
        "max_num = find_maximum(num1, num2, num3)\n",
        "print(\"Sample output:\", max_num)\n"
      ],
      "metadata": {
        "colab": {
          "base_uri": "https://localhost:8080/"
        },
        "id": "kK3Lp653WZKK",
        "outputId": "23f1b8fe-d999-49c0-e328-7a6e939fa00c"
      },
      "execution_count": 3,
      "outputs": [
        {
          "output_type": "stream",
          "name": "stdout",
          "text": [
            "Sample input: 34,12,7 \n",
            "Sample output: 34\n"
          ]
        }
      ]
    },
    {
      "cell_type": "code",
      "source": [
        "def exponent(base, exp):\n",
        "    return base ** exp\n",
        "\n",
        "base = int(input(\"Enter the base: \"))\n",
        "exp = int(input(\"Enter the exponent: \"))\n",
        "result = exponent(base, exp)\n",
        "print(\"Sample output:\", result)\n"
      ],
      "metadata": {
        "colab": {
          "base_uri": "https://localhost:8080/"
        },
        "id": "R8NxKMNAW6Pc",
        "outputId": "1077de18-ddc9-4848-a50f-f223e9602ed3"
      },
      "execution_count": 4,
      "outputs": [
        {
          "output_type": "stream",
          "name": "stdout",
          "text": [
            "Enter the base: 2\n",
            "Enter the exponent: 3\n",
            "Sample output: 8\n"
          ]
        }
      ]
    },
    {
      "cell_type": "code",
      "source": [
        "def sum_of_cubes(n):\n",
        "    return sum(i ** 3 for i in range(1, n))\n",
        "\n",
        "num = int(input(\"Sample input: \"))\n",
        "result = sum_of_cubes(num)\n",
        "print(\"Sample output:\", result)\n"
      ],
      "metadata": {
        "colab": {
          "base_uri": "https://localhost:8080/"
        },
        "id": "o1VvbP1bXFlu",
        "outputId": "46d98269-5fe6-4be8-86c0-9ea15d90e6a8"
      },
      "execution_count": 5,
      "outputs": [
        {
          "output_type": "stream",
          "name": "stdout",
          "text": [
            "Sample input: 4\n",
            "Sample output: 36\n"
          ]
        }
      ]
    },
    {
      "cell_type": "code",
      "source": [
        "for i in range(1, 11):\n",
        "    if i % 2 == 0 and i % 5 == 0:\n",
        "        print(\"FizzBuzz\")\n",
        "    elif i % 2 == 0:\n",
        "        print(\"Fizz\")\n",
        "    elif i % 5 == 0:\n",
        "        print(\"Buzz\")\n",
        "    else:\n",
        "        print(i)\n"
      ],
      "metadata": {
        "colab": {
          "base_uri": "https://localhost:8080/"
        },
        "id": "cJvjwwCEXGeX",
        "outputId": "56756ded-fe46-4a48-ada2-5b20ad51ba6e"
      },
      "execution_count": 6,
      "outputs": [
        {
          "output_type": "stream",
          "name": "stdout",
          "text": [
            "1\n",
            "Fizz\n",
            "3\n",
            "Fizz\n",
            "Buzz\n",
            "Fizz\n",
            "7\n",
            "Fizz\n",
            "9\n",
            "FizzBuzz\n"
          ]
        }
      ]
    },
    {
      "cell_type": "code",
      "source": [
        "def most_frequent(lst):\n",
        "    return max(set(lst), key=lst.count)\n",
        "\n",
        "numbers = list(map(int, input(\"Sample input: \").split(\",\")))\n",
        "result = most_frequent(numbers)\n",
        "print(\"Sample output:\", result)\n"
      ],
      "metadata": {
        "colab": {
          "base_uri": "https://localhost:8080/"
        },
        "id": "11Tt8oENXSQk",
        "outputId": "a185c061-840e-4036-d877-7a660bfe267a"
      },
      "execution_count": 7,
      "outputs": [
        {
          "output_type": "stream",
          "name": "stdout",
          "text": [
            "Sample input: 2, 3, 4, 2, 5, 2 \n",
            "Sample output: 2\n"
          ]
        }
      ]
    },
    {
      "cell_type": "code",
      "source": [
        "def sum_of_squares(lst):\n",
        "    return sum(x ** 2 for x in lst)\n",
        "\n",
        "numbers = list(map(int, input(\"Sample input: \").split(\",\")))\n",
        "result = sum_of_squares(numbers)\n",
        "print(\"Sample output:\", result)\n"
      ],
      "metadata": {
        "colab": {
          "base_uri": "https://localhost:8080/"
        },
        "id": "5BprLWxeXe43",
        "outputId": "73fad9d2-3250-4c32-b713-4e993d0b4282"
      },
      "execution_count": 8,
      "outputs": [
        {
          "output_type": "stream",
          "name": "stdout",
          "text": [
            "Sample input:  2,1,3,1\n",
            "Sample output: 15\n"
          ]
        }
      ]
    },
    {
      "cell_type": "code",
      "source": [
        "for i in range(1, 16):\n",
        "    if i % 2 == 0:\n",
        "        print(f\"{i}-even\")\n",
        "    else:\n",
        "        print(f\"{i}-odd\")\n"
      ],
      "metadata": {
        "colab": {
          "base_uri": "https://localhost:8080/"
        },
        "id": "9GKQTqwnXie0",
        "outputId": "e250c0c7-b0a4-4e77-fe55-4caed3863cc3"
      },
      "execution_count": 9,
      "outputs": [
        {
          "output_type": "stream",
          "name": "stdout",
          "text": [
            "1-odd\n",
            "2-even\n",
            "3-odd\n",
            "4-even\n",
            "5-odd\n",
            "6-even\n",
            "7-odd\n",
            "8-even\n",
            "9-odd\n",
            "10-even\n",
            "11-odd\n",
            "12-even\n",
            "13-odd\n",
            "14-even\n",
            "15-odd\n"
          ]
        }
      ]
    },
    {
      "cell_type": "code",
      "source": [
        "def fahrenheit_to_celsius(fahrenheit):\n",
        "    celsius = (fahrenheit - 32) * 5 / 9\n",
        "    return celsius\n",
        "\n",
        "temp_fahrenheit = float(input(\"Temperature in Fahrenheit: \"))\n",
        "\n",
        "# Convert Fahrenheit to Celsius\n",
        "temp_celsius = fahrenheit_to_celsius(temp_fahrenheit)\n",
        "print(\"Temperature in Celsius:\", temp_celsius)\n"
      ],
      "metadata": {
        "colab": {
          "base_uri": "https://localhost:8080/"
        },
        "id": "CkJwdKp9X4tT",
        "outputId": "0fd816ae-a21d-4bcc-baf5-1b5565fe5c9b"
      },
      "execution_count": 13,
      "outputs": [
        {
          "output_type": "stream",
          "name": "stdout",
          "text": [
            "Temperature in Fahrenheit: 41\n",
            "Temperature in Celsius: 5.0\n"
          ]
        }
      ]
    },
    {
      "cell_type": "code",
      "source": [
        "def factorial(n):\n",
        "    if n == 0:\n",
        "        return 1\n",
        "    else:\n",
        "        return n * factorial(n-1)\n",
        "\n",
        "num = int(input(\"Sample input: \"))\n",
        "result = factorial(num)\n",
        "print(\"Sample output:\", result)\n"
      ],
      "metadata": {
        "colab": {
          "base_uri": "https://localhost:8080/"
        },
        "id": "cFQny7qTYKEh",
        "outputId": "09768acf-36fb-4484-87f0-dff03f7c0818"
      },
      "execution_count": 14,
      "outputs": [
        {
          "output_type": "stream",
          "name": "stdout",
          "text": [
            "Sample input: 3\n",
            "Sample output: 6\n"
          ]
        }
      ]
    },
    {
      "cell_type": "code",
      "source": [],
      "metadata": {
        "id": "wfLqRom-Yg90"
      },
      "execution_count": null,
      "outputs": []
    }
  ]
}