{
  "nbformat": 4,
  "nbformat_minor": 0,
  "metadata": {
    "colab": {
      "provenance": [],
      "authorship_tag": "ABX9TyPP8C1Jz6hEP2HCWi44dJwK",
      "include_colab_link": true
    },
    "kernelspec": {
      "name": "python3",
      "display_name": "Python 3"
    },
    "language_info": {
      "name": "python"
    }
  },
  "cells": [
    {
      "cell_type": "markdown",
      "metadata": {
        "id": "view-in-github",
        "colab_type": "text"
      },
      "source": [
        "<a href=\"https://colab.research.google.com/github/Meenusj/DSA_ICT/blob/main/DSA_Assignment.ipynb\" target=\"_parent\"><img src=\"https://colab.research.google.com/assets/colab-badge.svg\" alt=\"Open In Colab\"/></a>"
      ]
    },
    {
      "cell_type": "code",
      "execution_count": 12,
      "metadata": {
        "id": "CJI7uhZZoTQG"
      },
      "outputs": [],
      "source": [
        "import pandas as pd\n",
        "import numpy as np\n",
        "import matplotlib.pyplot as plt\n"
      ]
    },
    {
      "cell_type": "code",
      "source": [
        "data = pd.read_csv(\"Students_Performance.csv\")\n"
      ],
      "metadata": {
        "id": "GmaJg_433Rla"
      },
      "execution_count": 13,
      "outputs": []
    },
    {
      "cell_type": "code",
      "source": [
        "print(data.head())"
      ],
      "metadata": {
        "colab": {
          "base_uri": "https://localhost:8080/"
        },
        "id": "0TLAZICE3fTW",
        "outputId": "734c47bf-e7e2-4fa9-d823-84fbea6f2e89"
      },
      "execution_count": 14,
      "outputs": [
        {
          "output_type": "stream",
          "name": "stdout",
          "text": [
            "   gender race/ethnicity parental level of education         lunch  \\\n",
            "0  female        group C            some high school  free/reduced   \n",
            "1  female        group B                 high school  free/reduced   \n",
            "2  female        group B            some high school  free/reduced   \n",
            "3  female        group B                some college      standard   \n",
            "4  female        group C                some college  free/reduced   \n",
            "\n",
            "  test preparation course  math score  reading score  writing score  \n",
            "0                    none           0             17             10  \n",
            "1                    none           8             24             23  \n",
            "2                    none          18             32             28  \n",
            "3                    none          11             38             32  \n",
            "4                    none          22             39             33  \n"
          ]
        }
      ]
    },
    {
      "cell_type": "code",
      "source": [
        "print(data.info())"
      ],
      "metadata": {
        "colab": {
          "base_uri": "https://localhost:8080/"
        },
        "id": "BJkluANj3gDV",
        "outputId": "959121b8-701c-4f36-fb9b-5c88afbe3d94"
      },
      "execution_count": 15,
      "outputs": [
        {
          "output_type": "stream",
          "name": "stdout",
          "text": [
            "<class 'pandas.core.frame.DataFrame'>\n",
            "RangeIndex: 1000 entries, 0 to 999\n",
            "Data columns (total 8 columns):\n",
            " #   Column                       Non-Null Count  Dtype \n",
            "---  ------                       --------------  ----- \n",
            " 0   gender                       1000 non-null   object\n",
            " 1   race/ethnicity               1000 non-null   object\n",
            " 2   parental level of education  1000 non-null   object\n",
            " 3   lunch                        1000 non-null   object\n",
            " 4   test preparation course      1000 non-null   object\n",
            " 5   math score                   1000 non-null   int64 \n",
            " 6   reading score                1000 non-null   int64 \n",
            " 7   writing score                1000 non-null   int64 \n",
            "dtypes: int64(3), object(5)\n",
            "memory usage: 62.6+ KB\n",
            "None\n"
          ]
        }
      ]
    },
    {
      "cell_type": "code",
      "source": [
        "print(data.describe())"
      ],
      "metadata": {
        "colab": {
          "base_uri": "https://localhost:8080/"
        },
        "id": "oYQ9IxX73qSn",
        "outputId": "ceab37ac-1ddc-4107-df50-2ac1f41cb30b"
      },
      "execution_count": 16,
      "outputs": [
        {
          "output_type": "stream",
          "name": "stdout",
          "text": [
            "        math score  reading score  writing score\n",
            "count  1000.000000    1000.000000    1000.000000\n",
            "mean     66.001000      69.195000      68.119000\n",
            "std      15.569567      14.706436      15.226381\n",
            "min       0.000000      17.000000      10.000000\n",
            "25%      57.000000      59.000000      58.000000\n",
            "50%      66.000000      70.000000      69.000000\n",
            "75%      77.000000      79.250000      79.000000\n",
            "max     100.000000     100.000000     100.000000\n"
          ]
        }
      ]
    },
    {
      "cell_type": "code",
      "source": [
        "# Count males and females\n",
        "gender_counts = data['gender'].value_counts()\n",
        "print(gender_counts)\n"
      ],
      "metadata": {
        "colab": {
          "base_uri": "https://localhost:8080/"
        },
        "id": "HL1sZHVO3zAl",
        "outputId": "5a1b4daf-2b40-4329-955b-cc7d9dd65b67"
      },
      "execution_count": 17,
      "outputs": [
        {
          "output_type": "stream",
          "name": "stdout",
          "text": [
            "female    518\n",
            "male      482\n",
            "Name: gender, dtype: int64\n"
          ]
        }
      ]
    },
    {
      "cell_type": "code",
      "source": [
        "# Parental level of education\n",
        "parental_education_counts = df['parental level of education'].value_counts()\n",
        "print(parental_education_counts)\n"
      ],
      "metadata": {
        "colab": {
          "base_uri": "https://localhost:8080/"
        },
        "id": "1V0tdxqe54wE",
        "outputId": "ac7acb7a-7f78-4bad-91fe-47b6a51ed32c"
      },
      "execution_count": 18,
      "outputs": [
        {
          "output_type": "stream",
          "name": "stdout",
          "text": [
            "some college          226\n",
            "associate's degree    222\n",
            "high school           196\n",
            "some high school      179\n",
            "bachelor's degree     118\n",
            "master's degree        59\n",
            "Name: parental level of education, dtype: int64\n"
          ]
        }
      ]
    },
    {
      "cell_type": "code",
      "source": [
        "# Average scores based on gender\n",
        "avg_scores_gender = data.groupby('gender').mean()[['math score', 'reading score', 'writing score']]\n",
        "print(avg_scores_gender)\n"
      ],
      "metadata": {
        "colab": {
          "base_uri": "https://localhost:8080/"
        },
        "id": "cAKp_5Df7QfT",
        "outputId": "54ceffcc-5ffb-4237-afcb-f9805bfe6ab5"
      },
      "execution_count": 21,
      "outputs": [
        {
          "output_type": "stream",
          "name": "stdout",
          "text": [
            "        math score  reading score  writing score\n",
            "gender                                          \n",
            "female   63.376448      72.590734      72.467181\n",
            "male     68.821577      65.545643      63.446058\n"
          ]
        },
        {
          "output_type": "stream",
          "name": "stderr",
          "text": [
            "<ipython-input-21-8ec2e29c7389>:2: FutureWarning: The default value of numeric_only in DataFrameGroupBy.mean is deprecated. In a future version, numeric_only will default to False. Either specify numeric_only or select only columns which should be valid for the function.\n",
            "  avg_scores_gender = data.groupby('gender').mean()[['math score', 'reading score', 'writing score']]\n"
          ]
        }
      ]
    },
    {
      "cell_type": "code",
      "source": [
        "\n",
        "# Average scores based on test preparation course\n",
        "avg_scores_test_prep = data.groupby('test preparation course').mean()[['math score', 'reading score', 'writing score']]\n",
        "print(avg_scores_test_prep)\n"
      ],
      "metadata": {
        "colab": {
          "base_uri": "https://localhost:8080/"
        },
        "id": "2htSbH8g7sAc",
        "outputId": "d9bbca68-ab17-4af3-efd7-f32cb3833a20"
      },
      "execution_count": 22,
      "outputs": [
        {
          "output_type": "stream",
          "name": "stdout",
          "text": [
            "                         math score  reading score  writing score\n",
            "test preparation course                                          \n",
            "completed                  69.96648      74.175978      74.684358\n",
            "none                       63.78972      66.417445      64.457944\n"
          ]
        },
        {
          "output_type": "stream",
          "name": "stderr",
          "text": [
            "<ipython-input-22-99633fe7a3a9>:2: FutureWarning: The default value of numeric_only in DataFrameGroupBy.mean is deprecated. In a future version, numeric_only will default to False. Either specify numeric_only or select only columns which should be valid for the function.\n",
            "  avg_scores_test_prep = data.groupby('test preparation course').mean()[['math score', 'reading score', 'writing score']]\n"
          ]
        }
      ]
    },
    {
      "cell_type": "code",
      "source": [
        "# Scoring variation based on gender\n",
        "score_variation_gender = data.groupby('gender').std()[['math score', 'reading score', 'writing score']]\n",
        "print(score_variation_gender)"
      ],
      "metadata": {
        "colab": {
          "base_uri": "https://localhost:8080/"
        },
        "id": "-cSRwoUK7xyZ",
        "outputId": "e29129ba-63a9-42c9-f721-33956a646e17"
      },
      "execution_count": 26,
      "outputs": [
        {
          "output_type": "stream",
          "name": "stdout",
          "text": [
            "        math score  reading score  writing score\n",
            "gender                                          \n",
            "female   16.029928      14.411018      14.844842\n",
            "male     14.556411      14.149594      14.227225\n"
          ]
        },
        {
          "output_type": "stream",
          "name": "stderr",
          "text": [
            "<ipython-input-26-e49a2a12b1dd>:2: FutureWarning: The default value of numeric_only in DataFrameGroupBy.std is deprecated. In a future version, numeric_only will default to False. Either specify numeric_only or select only columns which should be valid for the function.\n",
            "  score_variation_gender = data.groupby('gender').std()[['math score', 'reading score', 'writing score']]\n"
          ]
        }
      ]
    },
    {
      "cell_type": "code",
      "source": [
        "# Scoring variation based on test preparation course\n",
        "score_variation_test_prep = data.groupby('test preparation course').std()[['math score', 'reading score', 'writing score']]\n",
        "print(score_variation_test_prep)"
      ],
      "metadata": {
        "colab": {
          "base_uri": "https://localhost:8080/"
        },
        "id": "u8xcau3S8OkR",
        "outputId": "4986def1-7758-4760-ce6b-16c6265d1fe0"
      },
      "execution_count": 27,
      "outputs": [
        {
          "output_type": "stream",
          "name": "stdout",
          "text": [
            "                         math score  reading score  writing score\n",
            "test preparation course                                          \n",
            "completed                 14.521847      13.537572      13.236412\n",
            "none                      15.705689      14.608896      15.041667\n"
          ]
        },
        {
          "output_type": "stream",
          "name": "stderr",
          "text": [
            "<ipython-input-27-a5b536cc5f95>:2: FutureWarning: The default value of numeric_only in DataFrameGroupBy.std is deprecated. In a future version, numeric_only will default to False. Either specify numeric_only or select only columns which should be valid for the function.\n",
            "  score_variation_test_prep = data.groupby('test preparation course').std()[['math score', 'reading score', 'writing score']]\n"
          ]
        }
      ]
    },
    {
      "cell_type": "code",
      "source": [
        "# Bonus points for top 25% of students based on math scores\n",
        "top_25_percent_math = df[df['math score'] >= np.percentile(df['math score'], 75)].copy()\n",
        "top_25_percent_math.loc[:, 'bonus_points'] = 5  # Assigning bonus points using .loc accessor\n",
        "print(top_25_percent_math.head())\n"
      ],
      "metadata": {
        "colab": {
          "base_uri": "https://localhost:8080/"
        },
        "id": "ry-Qo35Q9Opo",
        "outputId": "e7a88da4-a189-4386-d0e0-c0b46044a34b"
      },
      "execution_count": 29,
      "outputs": [
        {
          "output_type": "stream",
          "name": "stdout",
          "text": [
            "     gender race/ethnicity parental level of education         lunch  \\\n",
            "414  female        group A                 high school  free/reduced   \n",
            "415  female        group B             master's degree  free/reduced   \n",
            "416  female        group B           bachelor's degree  free/reduced   \n",
            "417  female        group B             master's degree      standard   \n",
            "418  female        group B                 high school      standard   \n",
            "\n",
            "    test preparation course  math score  reading score  writing score  \\\n",
            "414               completed          77             88             85   \n",
            "415               completed          77             97             94   \n",
            "416                    none          77             85             87   \n",
            "417                    none          77             90             84   \n",
            "418               completed          77             82             89   \n",
            "\n",
            "     bonus_points  \n",
            "414             5  \n",
            "415             5  \n",
            "416             5  \n",
            "417             5  \n",
            "418             5  \n"
          ]
        }
      ]
    },
    {
      "cell_type": "code",
      "source": [],
      "metadata": {
        "id": "C7oWmAVy9PPz"
      },
      "execution_count": null,
      "outputs": []
    }
  ]
}