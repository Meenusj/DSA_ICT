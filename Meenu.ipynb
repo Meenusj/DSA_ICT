{
  "nbformat": 4,
  "nbformat_minor": 0,
  "metadata": {
    "colab": {
      "provenance": [],
      "authorship_tag": "ABX9TyPBZR5/1enoj6kzoBYDP0es",
      "include_colab_link": true
    },
    "kernelspec": {
      "name": "python3",
      "display_name": "Python 3"
    },
    "language_info": {
      "name": "python"
    }
  },
  "cells": [
    {
      "cell_type": "markdown",
      "metadata": {
        "id": "view-in-github",
        "colab_type": "text"
      },
      "source": [
        "<a href=\"https://colab.research.google.com/github/Meenusj/DSA_ICT/blob/main/Meenu.ipynb\" target=\"_parent\"><img src=\"https://colab.research.google.com/assets/colab-badge.svg\" alt=\"Open In Colab\"/></a>"
      ]
    },
    {
      "cell_type": "code",
      "source": [
        "import pandas as pd\n",
        "from sklearn.model_selection import train_test_split\n",
        "from sklearn.preprocessing import StandardScaler\n",
        "from sklearn.linear_model import LogisticRegression\n",
        "from sklearn.svm import SVC\n",
        "from sklearn.tree import DecisionTreeClassifier\n",
        "from sklearn.neighbors import KNeighborsClassifier\n",
        "from sklearn.metrics import confusion_matrix, accuracy_score, precision_score, recall_score, f1_score\n",
        "\n",
        "# Read the dataset\n",
        "iris_df = pd.read_excel(\"iris.xls\")\n",
        "\n",
        "# Drop non-numeric columns (assuming 'Classification' is the target variable)\n",
        "numeric_cols = iris_df.drop(columns=['Classification'])\n",
        "\n",
        "# Fill missing values with mean\n",
        "iris_df[numeric_cols.columns] = numeric_cols.apply(lambda x: x.fillna(x.mean()))\n",
        "\n",
        "# Separate Features and Target Variable\n",
        "X = iris_df.drop(columns=['Classification'])\n",
        "y = iris_df['Classification']\n",
        "\n",
        "# Split the data into training and testing sets\n",
        "X_train, X_test, y_train, y_test = train_test_split(X, y, random_state=42, test_size=0.2)\n",
        "\n",
        "# Standardize features\n",
        "scaler = StandardScaler()\n",
        "X_train_scaled = scaler.fit_transform(X_train)\n",
        "X_test_scaled = scaler.transform(X_test)\n",
        "\n",
        "# Logistic Regression\n",
        "log_model = LogisticRegression()\n",
        "log_model.fit(X_train_scaled, y_train)\n",
        "y_pred_logistic = log_model.predict(X_test_scaled)\n",
        "print(\"Logistic Regression:\")\n",
        "print(\"Confusion Matrix:\\n\", confusion_matrix(y_test, y_pred_logistic))\n",
        "print(\"Accuracy Score:\", accuracy_score(y_test, y_pred_logistic))\n",
        "print(\"Precision Score:\", precision_score(y_test, y_pred_logistic, average='weighted'))\n",
        "print(\"Recall Score:\", recall_score(y_test, y_pred_logistic, average='weighted'))\n",
        "print(\"F1 Score:\", f1_score(y_test, y_pred_logistic, average='weighted'))\n",
        "\n",
        "# SVM\n",
        "svm_clf = SVC(kernel='linear')\n",
        "svm_clf.fit(X_train_scaled, y_train)\n",
        "y_pred_svm = svm_clf.predict(X_test_scaled)\n",
        "print(\"\\nSupport Vector Machine (Linear Kernel):\")\n",
        "print(\"Confusion Matrix:\\n\", confusion_matrix(y_test, y_pred_svm))\n",
        "print(\"Accuracy Score:\", accuracy_score(y_test, y_pred_svm))\n",
        "print(\"Precision Score:\", precision_score(y_test, y_pred_svm, average='weighted'))\n",
        "print(\"Recall Score:\", recall_score(y_test, y_pred_svm, average='weighted'))\n",
        "print(\"F1 Score:\", f1_score(y_test, y_pred_svm, average='weighted'))\n",
        "\n",
        "# Decision Tree\n",
        "dt_clf = DecisionTreeClassifier()\n",
        "dt_clf.fit(X_train_scaled, y_train)\n",
        "y_pred_dt = dt_clf.predict(X_test_scaled)\n",
        "print(\"\\nDecision Tree:\")\n",
        "print(\"Confusion Matrix:\\n\", confusion_matrix(y_test, y_pred_dt))\n",
        "print(\"Accuracy Score:\", accuracy_score(y_test, y_pred_dt))\n",
        "print(\"Precision Score:\", precision_score(y_test, y_pred_dt, average='weighted'))\n",
        "print(\"Recall Score:\", recall_score(y_test, y_pred_dt, average='weighted'))\n",
        "print(\"F1 Score:\", f1_score(y_test, y_pred_dt, average='weighted'))\n",
        "\n",
        "# KNN\n",
        "knn_clf = KNeighborsClassifier()\n",
        "knn_clf.fit(X_train_scaled, y_train)\n",
        "y_pred_knn = knn_clf.predict(X_test_scaled)\n",
        "print(\"\\nK-Nearest Neighbors:\")\n",
        "print(\"Confusion Matrix:\\n\", confusion_matrix(y_test, y_pred_knn))\n",
        "print(\"Accuracy Score:\", accuracy_score(y_test, y_pred_knn))\n",
        "print(\"Precision Score:\", precision_score(y_test, y_pred_knn, average='weighted'))\n",
        "print(\"Recall Score:\", recall_score(y_test, y_pred_knn, average='weighted'))\n",
        "print(\"F1 Score:\", f1_score(y_test, y_pred_knn, average='weighted'))\n"
      ],
      "metadata": {
        "colab": {
          "base_uri": "https://localhost:8080/"
        },
        "id": "QkstMOwf_0VZ",
        "outputId": "4a38bc11-c59c-4ca9-9671-41bd2565b6eb"
      },
      "execution_count": 11,
      "outputs": [
        {
          "output_type": "stream",
          "name": "stdout",
          "text": [
            "Logistic Regression:\n",
            "Confusion Matrix:\n",
            " [[10  0  0]\n",
            " [ 0  8  1]\n",
            " [ 0  0 11]]\n",
            "Accuracy Score: 0.9666666666666667\n",
            "Precision Score: 0.9694444444444444\n",
            "Recall Score: 0.9666666666666667\n",
            "F1 Score: 0.9664109121909632\n",
            "\n",
            "Support Vector Machine (Linear Kernel):\n",
            "Confusion Matrix:\n",
            " [[10  0  0]\n",
            " [ 0  8  1]\n",
            " [ 0  0 11]]\n",
            "Accuracy Score: 0.9666666666666667\n",
            "Precision Score: 0.9694444444444444\n",
            "Recall Score: 0.9666666666666667\n",
            "F1 Score: 0.9664109121909632\n",
            "\n",
            "Decision Tree:\n",
            "Confusion Matrix:\n",
            " [[10  0  0]\n",
            " [ 0  9  0]\n",
            " [ 0  0 11]]\n",
            "Accuracy Score: 1.0\n",
            "Precision Score: 1.0\n",
            "Recall Score: 1.0\n",
            "F1 Score: 1.0\n",
            "\n",
            "K-Nearest Neighbors:\n",
            "Confusion Matrix:\n",
            " [[10  0  0]\n",
            " [ 0  8  1]\n",
            " [ 0  0 11]]\n",
            "Accuracy Score: 0.9666666666666667\n",
            "Precision Score: 0.9694444444444444\n",
            "Recall Score: 0.9666666666666667\n",
            "F1 Score: 0.9664109121909632\n"
          ]
        }
      ]
    },
    {
      "cell_type": "code",
      "source": [],
      "metadata": {
        "id": "e6mUSw6ZAYP5"
      },
      "execution_count": null,
      "outputs": []
    }
  ]
}