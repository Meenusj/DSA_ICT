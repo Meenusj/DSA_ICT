{
  "nbformat": 4,
  "nbformat_minor": 0,
  "metadata": {
    "colab": {
      "provenance": [],
      "authorship_tag": "ABX9TyOYnhd9yyaNla7B4Tzo6EYa",
      "include_colab_link": true
    },
    "kernelspec": {
      "name": "python3",
      "display_name": "Python 3"
    },
    "language_info": {
      "name": "python"
    }
  },
  "cells": [
    {
      "cell_type": "markdown",
      "metadata": {
        "id": "view-in-github",
        "colab_type": "text"
      },
      "source": [
        "<a href=\"https://colab.research.google.com/github/Meenusj/DSA_ICT/blob/main/Testing_of_Hypothesis.ipynb\" target=\"_parent\"><img src=\"https://colab.research.google.com/assets/colab-badge.svg\" alt=\"Open In Colab\"/></a>"
      ]
    },
    {
      "cell_type": "code",
      "execution_count": 1,
      "metadata": {
        "id": "_ACYGpwR_e8e"
      },
      "outputs": [],
      "source": [
        "import pandas as pd\n",
        "import numpy as np\n",
        "import matplotlib.pyplot as plt\n",
        "import seaborn as sns\n",
        "from scipy.stats import chi2_contingency\n"
      ]
    },
    {
      "cell_type": "code",
      "source": [
        "# Load the dataset\n",
        "df = pd.read_csv(\"Sales_add.csv\")\n"
      ],
      "metadata": {
        "id": "rA2J2J3j_kWg"
      },
      "execution_count": 2,
      "outputs": []
    },
    {
      "cell_type": "code",
      "source": [
        "print(df.head())"
      ],
      "metadata": {
        "colab": {
          "base_uri": "https://localhost:8080/"
        },
        "id": "ZCV6FKyD_ohk",
        "outputId": "737c8e17-9f5e-4d3f-a4ea-0d15b7d0c57a"
      },
      "execution_count": 3,
      "outputs": [
        {
          "output_type": "stream",
          "name": "stdout",
          "text": [
            "     Month      Region      Manager  Sales_before_digital_add(in $)  \\\n",
            "0  Month-1  Region - A  Manager - A                          132921   \n",
            "1  Month-2  Region - A  Manager - C                          149559   \n",
            "2  Month-3  Region - B  Manager - A                          146278   \n",
            "3  Month-4  Region - B  Manager - B                          152167   \n",
            "4  Month-5  Region - C  Manager - B                          159525   \n",
            "\n",
            "   Sales_After_digital_add(in $)  \n",
            "0                         270390  \n",
            "1                         223334  \n",
            "2                         244243  \n",
            "3                         231808  \n",
            "4                         258402  \n"
          ]
        }
      ]
    },
    {
      "cell_type": "code",
      "source": [
        "print(df.info())"
      ],
      "metadata": {
        "colab": {
          "base_uri": "https://localhost:8080/"
        },
        "id": "MzODkXSD_tCb",
        "outputId": "cbebdc33-5a69-48a2-b579-b8d73e18c0a0"
      },
      "execution_count": 4,
      "outputs": [
        {
          "output_type": "stream",
          "name": "stdout",
          "text": [
            "<class 'pandas.core.frame.DataFrame'>\n",
            "RangeIndex: 22 entries, 0 to 21\n",
            "Data columns (total 5 columns):\n",
            " #   Column                          Non-Null Count  Dtype \n",
            "---  ------                          --------------  ----- \n",
            " 0   Month                           22 non-null     object\n",
            " 1   Region                          22 non-null     object\n",
            " 2   Manager                         22 non-null     object\n",
            " 3   Sales_before_digital_add(in $)  22 non-null     int64 \n",
            " 4   Sales_After_digital_add(in $)   22 non-null     int64 \n",
            "dtypes: int64(2), object(3)\n",
            "memory usage: 1008.0+ bytes\n",
            "None\n"
          ]
        }
      ]
    },
    {
      "cell_type": "code",
      "source": [
        "print(df.describe())\n"
      ],
      "metadata": {
        "colab": {
          "base_uri": "https://localhost:8080/"
        },
        "id": "zx3AgrzD_1HS",
        "outputId": "7a49ff28-ebd3-42b8-8eca-43f49f87a5e6"
      },
      "execution_count": 5,
      "outputs": [
        {
          "output_type": "stream",
          "name": "stdout",
          "text": [
            "       Sales_before_digital_add(in $)  Sales_After_digital_add(in $)\n",
            "count                       22.000000                      22.000000\n",
            "mean                    149239.954545                  231123.727273\n",
            "std                      14844.042921                   25556.777061\n",
            "min                     130263.000000                  187305.000000\n",
            "25%                     138087.750000                  214960.750000\n",
            "50%                     147444.000000                  229986.500000\n",
            "75%                     157627.500000                  250909.000000\n",
            "max                     178939.000000                  276279.000000\n"
          ]
        }
      ]
    },
    {
      "cell_type": "code",
      "source": [
        "# Calculate the difference in sales before and after digital marketing\n",
        "df['Sales_difference'] = df['Sales_After_digital_add(in $)'] - df['Sales_before_digital_add(in $)']\n",
        "\n",
        "# Perform statistical tests to determine if there is a significant increase in sales after digital marketing\n",
        "from scipy.stats import ttest_1samp\n",
        "\n",
        "# Perform one-sample t-test (null hypothesis: mean difference in sales is zero)\n",
        "t_stat, p_value = ttest_1samp(df['Sales_difference'], 0)\n",
        "\n",
        "# Print the p-value\n",
        "print(\"p-value:\", p_value)\n",
        "\n",
        "# Interpret the result\n",
        "if p_value < 0.05:\n",
        "    print(\"There is a statistically significant increase in sales after starting digital marketing.\")\n",
        "else:\n",
        "    print(\"There is no statistically significant increase in sales after starting digital marketing.\")\n"
      ],
      "metadata": {
        "colab": {
          "base_uri": "https://localhost:8080/"
        },
        "id": "MUmpc4_5_6v8",
        "outputId": "286fac61-f6ae-4ba5-cf0e-f227b05a36bb"
      },
      "execution_count": 7,
      "outputs": [
        {
          "output_type": "stream",
          "name": "stdout",
          "text": [
            "p-value: 6.336667004575778e-11\n",
            "There is a statistically significant increase in sales after starting digital marketing.\n"
          ]
        }
      ]
    },
    {
      "cell_type": "code",
      "source": [
        "# Create a contingency table\n",
        "contingency_table = pd.crosstab(df['Region'], df['Manager'])\n",
        "\n",
        "# Perform chi-square test of independence\n",
        "from scipy.stats import chi2_contingency\n",
        "\n",
        "chi2, p_value, dof, expected = chi2_contingency(contingency_table)\n",
        "\n",
        "# Print the p-value\n",
        "print(\"p-value:\", p_value)\n",
        "\n",
        "# Interpret the result\n",
        "if p_value < 0.05:\n",
        "    print(\"There is a statistically significant dependency between Region and Manager.\")\n",
        "else:\n",
        "    print(\"There is no statistically significant dependency between Region and Manager.\")\n"
      ],
      "metadata": {
        "colab": {
          "base_uri": "https://localhost:8080/"
        },
        "id": "Ktz02cgxBf1f",
        "outputId": "214f2105-6181-43d5-ea85-be713244047f"
      },
      "execution_count": 8,
      "outputs": [
        {
          "output_type": "stream",
          "name": "stdout",
          "text": [
            "p-value: 0.5493991051158094\n",
            "There is no statistically significant dependency between Region and Manager.\n"
          ]
        }
      ]
    }
  ]
}